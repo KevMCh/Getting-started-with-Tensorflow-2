{
  "nbformat": 4,
  "nbformat_minor": 0,
  "metadata": {
    "colab": {
      "name": "SavingModels.ipynb",
      "provenance": [],
      "authorship_tag": "ABX9TyOx6bsPNIiZPEM9G58+OPFj"
    },
    "kernelspec": {
      "name": "python3",
      "display_name": "Python 3"
    }
  },
  "cells": [
    {
      "cell_type": "code",
      "metadata": {
        "id": "43B8HzRpQ1mT"
      },
      "source": [
        "from tensorflow.keras.models import Sequential\n",
        "from tensorflow.keras.layers import Dense, Dropout\n",
        "from tensorflow.keras.callbacks import ModelCheckpoint"
      ],
      "execution_count": 1,
      "outputs": []
    },
    {
      "cell_type": "code",
      "metadata": {
        "id": "7sv-oW5rRLD5"
      },
      "source": [
        "model = Sequential([\n",
        "                    Dense(16, activation='relu'),\n",
        "                    Dropout(0,3),\n",
        "                    Dense(3, activation='softmax')\n",
        "])"
      ],
      "execution_count": 2,
      "outputs": []
    },
    {
      "cell_type": "code",
      "metadata": {
        "id": "ml1C7nfORXKP"
      },
      "source": [
        "model.compile(optimizer='rmsprop', loss='sparse_categorical_crossentropy', \n",
        "              metrics=['acc', 'mae'])"
      ],
      "execution_count": 3,
      "outputs": []
    },
    {
      "cell_type": "code",
      "metadata": {
        "id": "ac4XnYPGRle2"
      },
      "source": [
        "checkpoint = ModelCheckpoint('training_run_1/model.{epoch}-{val_loss:.4f}', save_weights_only=True,\n",
        "                             save_best_only=True, monitor='val_acc', mod='max') \n",
        "                             \n",
        "                             # save_best_only=True, monitor='val_acc'\n",
        "                             #                    monitor='val_loss'\n",
        "                             # save_freq='epoch'\n",
        "                             # save_freq=1000"
      ],
      "execution_count": 4,
      "outputs": []
    },
    {
      "cell_type": "code",
      "metadata": {
        "id": "O6XAkjFnRuQu"
      },
      "source": [
        "model.fit(X_train, y_train, validation_data=(X_val, y_val), epochs=10,\n",
        "          batch_size=16, callbacks=[checkpoint])"
      ],
      "execution_count": null,
      "outputs": []
    }
  ]
}
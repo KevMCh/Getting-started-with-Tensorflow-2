{
  "nbformat": 4,
  "nbformat_minor": 0,
  "metadata": {
    "colab": {
      "name": "EvalAndPredictExample.ipynb",
      "provenance": [],
      "authorship_tag": "ABX9TyMBGSNzBAH4d6FCz8ccZSpf"
    },
    "kernelspec": {
      "name": "python3",
      "display_name": "Python 3"
    }
  },
  "cells": [
    {
      "cell_type": "code",
      "metadata": {
        "id": "B189G8mQJ6un",
        "colab_type": "code",
        "colab": {}
      },
      "source": [
        "import tensorflow as tf\n",
        "from tensorflow.keras.models import Sequential\n",
        "from tensorflow.keras.layers import Dense"
      ],
      "execution_count": null,
      "outputs": []
    },
    {
      "cell_type": "code",
      "metadata": {
        "id": "yrtSWLVoKJaB",
        "colab_type": "code",
        "colab": {}
      },
      "source": [
        "model = Sequential([Dense(3, activation='sigmoid', input_shape=(12,))])\n",
        "model.compile(optimizer='sgd', loss='categorical_crossentropy', metrics=['accuracy', 'mae'])\n",
        "model.fit(X_train, y_train)"
      ],
      "execution_count": null,
      "outputs": []
    },
    {
      "cell_type": "code",
      "metadata": {
        "id": "kS_V5qA4Ksnn",
        "colab_type": "code",
        "colab": {}
      },
      "source": [
        "loss, accuracy, mae = model.evaluate(X_test, y_test)"
      ],
      "execution_count": null,
      "outputs": []
    },
    {
      "cell_type": "code",
      "metadata": {
        "id": "dS7MvCtUKvf8",
        "colab_type": "code",
        "colab": {}
      },
      "source": [
        "pred = model.predict(X_sample)"
      ],
      "execution_count": null,
      "outputs": []
    }
  ]
}
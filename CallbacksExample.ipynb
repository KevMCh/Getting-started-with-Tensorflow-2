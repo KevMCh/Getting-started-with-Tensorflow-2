{
  "nbformat": 4,
  "nbformat_minor": 0,
  "metadata": {
    "colab": {
      "name": "CallbacksExample.ipynb",
      "provenance": [],
      "authorship_tag": "ABX9TyOI1nmKWhAlKHYH8EniUBVr"
    },
    "kernelspec": {
      "name": "python3",
      "display_name": "Python 3"
    }
  },
  "cells": [
    {
      "cell_type": "code",
      "metadata": {
        "id": "_FlTR2GBmkG4",
        "colab_type": "code",
        "colab": {}
      },
      "source": [
        "from tensorflow.keras.callbacks import Callback"
      ],
      "execution_count": null,
      "outputs": []
    },
    {
      "cell_type": "code",
      "metadata": {
        "id": "oQUZ9Imhm74b",
        "colab_type": "code",
        "colab": {}
      },
      "source": [
        "class my_callback(Callback):\n",
        "  def on_train_begin(self, logs=None):\n",
        "    # Do something at the start of training\n",
        "  \n",
        "  def on_train_batch_begin(self, batch, logs=None):\n",
        "    # Do something at the start of every batch iteration\n",
        "\n",
        "  def on_epoch_end(self, epoch, logs=None):\n",
        "    # Do something at the end of every epoch\n"
      ],
      "execution_count": null,
      "outputs": []
    },
    {
      "cell_type": "code",
      "metadata": {
        "id": "iSEnykTHnHbh",
        "colab_type": "code",
        "colab": {}
      },
      "source": [
        "history = model.fit(X_train, y_train, epochs=5, callbacks=[my_callbacks()])"
      ],
      "execution_count": null,
      "outputs": []
    }
  ]
}
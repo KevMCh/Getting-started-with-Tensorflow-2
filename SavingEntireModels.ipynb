{
  "nbformat": 4,
  "nbformat_minor": 0,
  "metadata": {
    "colab": {
      "name": "SavingEntireModels.ipynb",
      "provenance": [],
      "collapsed_sections": []
    },
    "kernelspec": {
      "name": "python3",
      "display_name": "Python 3"
    }
  },
  "cells": [
    {
      "cell_type": "code",
      "metadata": {
        "id": "43B8HzRpQ1mT"
      },
      "source": [
        "from tensorflow.keras.models import Sequential\n",
        "from tensorflow.keras.layers import Dense, Dropout\n",
        "from tensorflow.keras.callbacks import ModelCheckpoint"
      ],
      "execution_count": null,
      "outputs": []
    },
    {
      "cell_type": "code",
      "metadata": {
        "id": "7sv-oW5rRLD5"
      },
      "source": [
        "model = Sequential([\n",
        "                    Dense(16, activation='relu'),\n",
        "                    Dropout(0.3),\n",
        "                    Dense(3, activation='softmax')\n",
        "])"
      ],
      "execution_count": null,
      "outputs": []
    },
    {
      "cell_type": "code",
      "metadata": {
        "id": "ml1C7nfORXKP"
      },
      "source": [
        "model.compile(optimizer='rmsprop', loss='sparse_categorical_crossentropy', \n",
        "              metrics=['acc', 'mae'])"
      ],
      "execution_count": null,
      "outputs": []
    },
    {
      "cell_type": "code",
      "metadata": {
        "id": "ac4XnYPGRle2"
      },
      "source": [
        "checkpoint = ModelCheckpoint('keras_model.h5', save_weights_only=False)"
      ],
      "execution_count": null,
      "outputs": []
    },
    {
      "cell_type": "code",
      "metadata": {
        "id": "O6XAkjFnRuQu"
      },
      "source": [
        "model.fit(X_train, y_train, validation_data=(X_val, y_val), epochs=10,\n",
        "          batch_size=16, callbacks=[checkpoint])"
      ],
      "execution_count": null,
      "outputs": []
    },
    {
      "cell_type": "code",
      "metadata": {
        "id": "RAt1_zXp1FJu"
      },
      "source": [
        "model.save(\"keras_model.h5\")"
      ],
      "execution_count": null,
      "outputs": []
    },
    {
      "cell_type": "code",
      "metadata": {
        "id": "MZB1dsxh1JUN"
      },
      "source": [
        "from tensorflow.keras.models import load_model\n",
        "\n",
        "new_model = load_model('my_model')"
      ],
      "execution_count": null,
      "outputs": []
    }
  ]
}
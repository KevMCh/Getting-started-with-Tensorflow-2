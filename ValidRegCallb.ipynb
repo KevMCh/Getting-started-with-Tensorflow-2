{
  "nbformat": 4,
  "nbformat_minor": 0,
  "metadata": {
    "colab": {
      "name": "ValidRegCallb.ipynb",
      "provenance": [],
      "authorship_tag": "ABX9TyNq3ITCwZ6SGlhXAQQwtLj2"
    },
    "kernelspec": {
      "name": "python3",
      "display_name": "Python 3"
    }
  },
  "cells": [
    {
      "cell_type": "markdown",
      "metadata": {
        "id": "7ydRHRbceuZx",
        "colab_type": "text"
      },
      "source": [
        "## Validation, regularisation and callbacks"
      ]
    },
    {
      "cell_type": "code",
      "metadata": {
        "id": "z84lxO0RePLA",
        "colab_type": "code",
        "colab": {
          "base_uri": "https://localhost:8080/",
          "height": 35
        },
        "outputId": "99b26844-f27b-49e1-a916-2522d992e403"
      },
      "source": [
        "import tensorflow as tf\n",
        "tf.__version__"
      ],
      "execution_count": 62,
      "outputs": [
        {
          "output_type": "execute_result",
          "data": {
            "application/vnd.google.colaboratory.intrinsic+json": {
              "type": "string"
            },
            "text/plain": [
              "'2.3.0'"
            ]
          },
          "metadata": {
            "tags": []
          },
          "execution_count": 62
        }
      ]
    },
    {
      "cell_type": "markdown",
      "metadata": {
        "id": "Q4sxyNXoe7FU",
        "colab_type": "text"
      },
      "source": [
        "##### Load the data"
      ]
    },
    {
      "cell_type": "code",
      "metadata": {
        "id": "PAq54nIie6uH",
        "colab_type": "code",
        "colab": {
          "base_uri": "https://localhost:8080/",
          "height": 683
        },
        "outputId": "c88a4f9b-040c-46dc-ff57-a413b3ea8c8b"
      },
      "source": [
        "from sklearn.datasets import load_diabetes\n",
        "\n",
        "diabetes_dataset = load_diabetes()\n",
        "print(diabetes_dataset[\"DESCR\"])"
      ],
      "execution_count": 63,
      "outputs": [
        {
          "output_type": "stream",
          "text": [
            ".. _diabetes_dataset:\n",
            "\n",
            "Diabetes dataset\n",
            "----------------\n",
            "\n",
            "Ten baseline variables, age, sex, body mass index, average blood\n",
            "pressure, and six blood serum measurements were obtained for each of n =\n",
            "442 diabetes patients, as well as the response of interest, a\n",
            "quantitative measure of disease progression one year after baseline.\n",
            "\n",
            "**Data Set Characteristics:**\n",
            "\n",
            "  :Number of Instances: 442\n",
            "\n",
            "  :Number of Attributes: First 10 columns are numeric predictive values\n",
            "\n",
            "  :Target: Column 11 is a quantitative measure of disease progression one year after baseline\n",
            "\n",
            "  :Attribute Information:\n",
            "      - Age\n",
            "      - Sex\n",
            "      - Body mass index\n",
            "      - Average blood pressure\n",
            "      - S1\n",
            "      - S2\n",
            "      - S3\n",
            "      - S4\n",
            "      - S5\n",
            "      - S6\n",
            "\n",
            "Note: Each of these 10 feature variables have been mean centered and scaled by the standard deviation times `n_samples` (i.e. the sum of squares of each column totals 1).\n",
            "\n",
            "Source URL:\n",
            "https://www4.stat.ncsu.edu/~boos/var.select/diabetes.html\n",
            "\n",
            "For more information see:\n",
            "Bradley Efron, Trevor Hastie, Iain Johnstone and Robert Tibshirani (2004) \"Least Angle Regression,\" Annals of Statistics (with discussion), 407-499.\n",
            "(https://web.stanford.edu/~hastie/Papers/LARS/LeastAngle_2002.pdf)\n"
          ],
          "name": "stdout"
        }
      ]
    },
    {
      "cell_type": "code",
      "metadata": {
        "id": "fnLmQyI6e5v7",
        "colab_type": "code",
        "colab": {
          "base_uri": "https://localhost:8080/",
          "height": 54
        },
        "outputId": "f8fc8fb0-7e9f-439b-e8be-9af15ff47bf7"
      },
      "source": [
        "print(diabetes_dataset.keys())\n",
        "\n",
        "data = diabetes_dataset[\"data\"]\n",
        "targets = diabetes_dataset[\"target\"]"
      ],
      "execution_count": 64,
      "outputs": [
        {
          "output_type": "stream",
          "text": [
            "dict_keys(['data', 'target', 'DESCR', 'feature_names', 'data_filename', 'target_filename'])\n"
          ],
          "name": "stdout"
        }
      ]
    },
    {
      "cell_type": "code",
      "metadata": {
        "id": "tgtdIvwqfewX",
        "colab_type": "code",
        "colab": {
          "base_uri": "https://localhost:8080/",
          "height": 1000
        },
        "outputId": "3a5e158e-d58d-4548-e781-5bcd8e7eb282"
      },
      "source": [
        "targets = (targets - targets.mean(axis = 0)) / targets.std()\n",
        "targets"
      ],
      "execution_count": 65,
      "outputs": [
        {
          "output_type": "execute_result",
          "data": {
            "text/plain": [
              "array([-1.47194752e-02, -1.00165882e+00, -1.44579915e-01,  6.99512942e-01,\n",
              "       -2.22496178e-01, -7.15965848e-01, -1.83538046e-01, -1.15749134e+00,\n",
              "       -5.47147277e-01,  2.05006151e+00, -6.64021672e-01, -1.07957508e+00,\n",
              "        3.48889755e-01,  4.26806019e-01, -4.43258925e-01,  2.45001404e-01,\n",
              "        1.80071184e-01, -1.05621783e-01, -7.15965848e-01,  2.06043272e-01,\n",
              "       -1.09256112e+00, -1.33929596e+00, -1.09256112e+00,  1.20596866e+00,\n",
              "        4.13819975e-01,  6.47568766e-01, -1.96524090e-01, -8.71798376e-01,\n",
              "       -2.74440354e-01,  1.69943833e+00, -3.00412442e-01, -1.20943552e+00,\n",
              "        2.45262887e+00, -8.45826288e-01, -1.13151925e+00, -6.51035629e-01,\n",
              "        1.46568953e+00,  1.60853602e+00,  1.29687096e+00, -8.06868156e-01,\n",
              "       -6.77007716e-01, -1.26137969e+00, -1.18346343e+00, -7.80896068e-01,\n",
              "        1.38777327e+00, -1.28735178e+00,  4.91736239e-01, -1.31593871e-01,\n",
              "       -1.00165882e+00, -1.31593871e-01,  3.72247006e-02,  9.46247777e-01,\n",
              "       -1.20943552e+00, -6.25063541e-01,  3.87847887e-01, -3.13398486e-01,\n",
              "       -1.30033783e+00, -1.49512849e+00,  2.32015360e-01,  2.32015360e-01,\n",
              "       -1.18346343e+00, -1.05621783e-01, -1.30033783e+00, -3.13398486e-01,\n",
              "       -1.05360299e+00,  1.41113052e-01, -2.77055191e-02, -7.15965848e-01,\n",
              "        1.02154920e-01,  3.35903711e-01, -1.35228200e+00,  1.53061975e+00,\n",
              "        6.47568766e-01, -5.34161233e-01, -8.71798376e-01, -1.43019827e+00,\n",
              "        2.32015360e-01,  6.21596678e-01,  1.29687096e+00, -5.08189145e-01,\n",
              "       -1.18607827e-01, -1.31332387e+00, -1.30033783e+00,  7.51457118e-01,\n",
              "       -1.13151925e+00, -1.44579915e-01, -1.26137969e+00, -2.35482222e-01,\n",
              "       -1.43019827e+00, -5.34161233e-01, -7.02979804e-01,  1.54099096e-01,\n",
              "       -1.35228200e+00, -7.28951892e-01, -8.06868156e-01,  1.28127008e-01,\n",
              "       -2.77055191e-02,  1.64749415e+00, -7.80896068e-01, -8.97770464e-01,\n",
              "       -3.13398486e-01, -6.51035629e-01,  1.94617316e+00,  5.95624590e-01,\n",
              "       -7.41937936e-01, -1.28735178e+00, -2.35482222e-01, -1.05621783e-01,\n",
              "        1.03715008e+00, -9.23742551e-01, -6.25063541e-01, -1.20943552e+00,\n",
              "        1.21895470e+00,  1.88124294e+00,  1.37478723e+00,  9.98191953e-01,\n",
              "        1.59554997e+00,  1.67346624e+00,  3.48889755e-01,  6.21596678e-01,\n",
              "        6.21596678e-01,  2.70973492e-01,  3.61875799e-01, -8.84784420e-01,\n",
              "       -4.04300794e-01,  1.15140964e-01, -6.89993760e-01, -5.60133321e-01,\n",
              "       -4.82217057e-01,  1.50464767e+00,  1.58256393e+00,  7.61828325e-02,\n",
              "       -5.86105409e-01, -8.97770464e-01, -6.38049585e-01,  1.55659184e+00,\n",
              "       -8.71798376e-01,  1.66048019e+00,  2.38769865e+00,  1.67346624e+00,\n",
              "       -4.43258925e-01,  2.14096382e+00,  1.07610822e+00, -1.19644947e+00,\n",
              "        2.83959536e-01,  1.38777327e+00,  3.35903711e-01, -3.13398486e-01,\n",
              "       -7.28951892e-01, -3.39370574e-01,  1.76436855e+00, -8.32840244e-01,\n",
              "        1.81631272e+00, -1.05360299e+00,  5.82638546e-01,  4.39792063e-01,\n",
              "       -1.65096101e+00, -8.84784420e-01, -7.28951892e-01,  5.56666458e-01,\n",
              "       -1.28735178e+00,  8.42359425e-01,  2.57987448e-01, -2.74440354e-01,\n",
              "        8.03401293e-01, -1.20943552e+00, -1.06658903e+00,  8.81317557e-01,\n",
              "        1.50464767e+00, -1.73343121e-03, -1.36526805e+00, -1.01464486e+00,\n",
              "        1.85527085e+00, -6.64021672e-01, -1.47194752e-02, -3.26384530e-01,\n",
              "        1.10208030e+00,  9.46247777e-01, -9.23742551e-01, -1.47194752e-02,\n",
              "       -5.86105409e-01, -1.14450530e+00, -1.83538046e-01,  4.26806019e-01,\n",
              "        1.46568953e+00, -6.64021672e-01, -1.96524090e-01, -1.18607827e-01,\n",
              "       -1.44579915e-01, -9.49714639e-01,  1.81631272e+00,  3.35903711e-01,\n",
              "       -7.93882112e-01, -4.69231013e-01, -8.58812332e-01, -3.91314750e-01,\n",
              "       -1.04061695e+00, -3.00412442e-01, -1.31593871e-01, -8.06868156e-01,\n",
              "        7.61828325e-02, -1.46915640e+00,  5.69652502e-01,  9.07289645e-01,\n",
              "        1.62152206e+00, -6.89993760e-01,  5.69652502e-01,  6.47568766e-01,\n",
              "        3.72247006e-02, -9.75686727e-01,  5.04722283e-01, -1.06658903e+00,\n",
              "       -1.02763090e+00, -1.33929596e+00, -1.13151925e+00,  1.43971745e+00,\n",
              "        1.24492679e+00,  1.86825690e+00,  8.03401293e-01,  4.26806019e-01,\n",
              "       -9.62700683e-01, -7.67910024e-01,  1.29687096e+00, -2.77055191e-02,\n",
              "       -9.75686727e-01,  7.25485030e-01, -9.75686727e-01, -5.73119365e-01,\n",
              "        1.02154920e-01, -1.28735178e+00,  8.81317557e-01,  2.42386567e-02,\n",
              "        1.38777327e+00, -8.06868156e-01,  1.21895470e+00, -3.65342662e-01,\n",
              "       -1.10554717e+00, -1.04061695e+00,  1.36180118e+00,  1.42673140e+00,\n",
              "        1.59554997e+00,  3.22917667e-01, -1.05360299e+00, -1.36526805e+00,\n",
              "        4.52778107e-01, -3.52356618e-01, -9.62700683e-01, -1.31332387e+00,\n",
              "        1.37478723e+00,  8.16387337e-01,  1.95915920e+00,  1.17999657e+00,\n",
              "       -7.93882112e-01, -2.77055191e-02,  2.05006151e+00,  1.12526127e-02,\n",
              "        2.51755909e+00, -1.15749134e+00, -8.19854200e-01, -1.32630991e+00,\n",
              "       -1.46915640e+00, -6.38049585e-01,  2.02408942e+00, -4.69231013e-01,\n",
              "       -9.26357388e-02, -1.01464486e+00, -1.39124013e+00, -4.82217057e-01,\n",
              "        1.45270349e+00, -8.45826288e-01,  6.47568766e-01, -3.26384530e-01,\n",
              "        3.87847887e-01,  1.15402448e+00, -1.11853321e+00, -7.54923980e-01,\n",
              "        1.69943833e+00, -1.14450530e+00, -6.51035629e-01,  6.21596678e-01,\n",
              "        1.46568953e+00, -7.54923980e-01,  1.01117800e+00,  3.74861843e-01,\n",
              "        5.02107446e-02,  1.05013613e+00, -1.19644947e+00,  8.68331513e-01,\n",
              "       -9.36728595e-01, -1.09256112e+00,  2.33575448e+00,  1.24492679e+00,\n",
              "       -8.84784420e-01,  6.21596678e-01, -1.26137969e+00, -8.71798376e-01,\n",
              "       -8.19854200e-01, -1.57304475e+00, -3.00412442e-01, -8.97770464e-01,\n",
              "        1.59554997e+00, -1.13151925e+00,  5.95624590e-01,  1.08909426e+00,\n",
              "        1.30985701e+00, -3.65342662e-01, -1.40422618e+00,  2.57987448e-01,\n",
              "       -4.95203101e-01, -1.31593871e-01, -5.60133321e-01,  3.61875799e-01,\n",
              "       -1.05621783e-01,  1.41113052e-01, -6.66636509e-02, -7.15965848e-01,\n",
              "        8.81317557e-01,  4.91736239e-01, -5.60133321e-01,  5.04722283e-01,\n",
              "       -3.91314750e-01,  1.01117800e+00,  1.16701052e+00,  1.24492679e+00,\n",
              "        1.25791283e+00,  5.17708327e-01, -2.74440354e-01,  1.10208030e+00,\n",
              "       -9.62700683e-01, -2.22496178e-01,  1.19298261e+00,  6.08610634e-01,\n",
              "        1.53061975e+00,  1.54099096e-01, -1.04061695e+00, -7.28951892e-01,\n",
              "        1.99811734e+00, -7.93882112e-01,  8.03401293e-01, -7.41937936e-01,\n",
              "        8.29373381e-01,  1.43971745e+00,  3.35903711e-01, -5.08189145e-01,\n",
              "        6.21596678e-01, -1.70552003e-01, -1.70552003e-01, -8.32840244e-01,\n",
              "       -5.36776070e-02, -8.32840244e-01,  1.17999657e+00, -1.05360299e+00,\n",
              "       -9.75686727e-01, -5.60133321e-01,  1.55659184e+00, -1.19644947e+00,\n",
              "       -1.27436574e+00,  8.94303601e-01, -8.06868156e-01,  2.06304756e+00,\n",
              "        1.67346624e+00,  3.87847887e-01,  2.19290800e+00, -1.22242156e+00,\n",
              "        1.42673140e+00,  6.99512942e-01,  1.05013613e+00,  1.16701052e+00,\n",
              "       -3.78328706e-01,  1.93057228e-01, -1.15749134e+00,  5.82638546e-01,\n",
              "       -1.05360299e+00,  2.06043272e-01, -1.57565959e-01,  8.42359425e-01,\n",
              "       -4.04300794e-01,  1.07610822e+00,  1.20596866e+00, -1.45617035e+00,\n",
              "       -1.30033783e+00, -6.25063541e-01, -2.61454310e-01, -8.32840244e-01,\n",
              "       -1.07957508e+00,  8.68331513e-01, -1.04061695e+00,  6.34582722e-01,\n",
              "       -5.47147277e-01, -1.31332387e+00,  1.62152206e+00, -1.15749134e+00,\n",
              "       -4.43258925e-01, -1.07957508e+00,  1.56957789e+00,  1.37478723e+00,\n",
              "       -1.41721222e+00,  5.95624590e-01,  1.16701052e+00,  1.03715008e+00,\n",
              "        2.96945580e-01, -7.67910024e-01,  2.06043272e-01,  1.59554997e+00,\n",
              "        1.82929877e+00,  1.67346624e+00, -1.04061695e+00, -1.57565959e-01,\n",
              "        4.78750195e-01,  3.74861843e-01,  7.38471074e-01, -2.09510134e-01,\n",
              "        1.41374536e+00, -5.08189145e-01, -2.74440354e-01,  2.83959536e-01,\n",
              "        1.36180118e+00, -1.26137969e+00, -8.84784420e-01, -1.43019827e+00,\n",
              "       -7.96496949e-02,  7.77429206e-01,  1.05013613e+00, -7.93882112e-01,\n",
              "       -5.34161233e-01, -1.73343121e-03, -4.17286837e-01, -1.10554717e+00,\n",
              "        2.05006151e+00, -7.54923980e-01,  4.00833931e-01, -1.11853321e+00,\n",
              "        2.70973492e-01, -1.04061695e+00, -1.33929596e+00, -1.14450530e+00,\n",
              "       -1.35228200e+00,  3.35903711e-01, -6.25063541e-01, -2.61454310e-01,\n",
              "        8.81317557e-01, -1.23540761e+00])"
            ]
          },
          "metadata": {
            "tags": []
          },
          "execution_count": 65
        }
      ]
    },
    {
      "cell_type": "markdown",
      "metadata": {
        "id": "daTAj758ifqg",
        "colab_type": "text"
      },
      "source": [
        "### Validation"
      ]
    },
    {
      "cell_type": "code",
      "metadata": {
        "id": "ox1PV4s8fs7U",
        "colab_type": "code",
        "colab": {
          "base_uri": "https://localhost:8080/",
          "height": 85
        },
        "outputId": "b44920ee-397b-4419-ec52-79525de297d8"
      },
      "source": [
        "# Split the dataset\n",
        "\n",
        "from sklearn.model_selection import train_test_split\n",
        "\n",
        "train_data, test_data, train_targets, test_targets = train_test_split(data, targets, test_size=0.1)\n",
        "\n",
        "print(train_data.shape)\n",
        "print(test_data.shape)\n",
        "print(train_targets.shape)\n",
        "print(test_targets.shape)"
      ],
      "execution_count": 66,
      "outputs": [
        {
          "output_type": "stream",
          "text": [
            "(397, 10)\n",
            "(45, 10)\n",
            "(397,)\n",
            "(45,)\n"
          ],
          "name": "stdout"
        }
      ]
    },
    {
      "cell_type": "markdown",
      "metadata": {
        "id": "Qxal8sg_hAwa",
        "colab_type": "text"
      },
      "source": [
        "##### Train a feedforward neural network model"
      ]
    },
    {
      "cell_type": "code",
      "metadata": {
        "id": "jiq0X_ksgOHD",
        "colab_type": "code",
        "colab": {}
      },
      "source": [
        "from tensorflow.keras.models import Sequential\n",
        "from tensorflow.keras.layers import Dense\n",
        "\n",
        "def get_model():\n",
        "  model = Sequential([\n",
        "                      Dense(128, activation='relu', input_shape=(train_data.shape[1],)),\n",
        "                      Dense(128, activation='relu'),\n",
        "                      Dense(128, activation='relu'),\n",
        "                      Dense(128, activation='relu'),\n",
        "                      Dense(128, activation='relu'),\n",
        "                      Dense(128, activation='relu'),\n",
        "                      Dense(1)\n",
        "  ])\n",
        "  return model\n",
        "\n",
        "model = get_model()"
      ],
      "execution_count": 67,
      "outputs": []
    },
    {
      "cell_type": "code",
      "metadata": {
        "id": "p05D8hWLhwhV",
        "colab_type": "code",
        "colab": {
          "base_uri": "https://localhost:8080/",
          "height": 391
        },
        "outputId": "54cd6aa1-23b3-446e-b251-80df04a070dc"
      },
      "source": [
        "model.summary()"
      ],
      "execution_count": 68,
      "outputs": [
        {
          "output_type": "stream",
          "text": [
            "Model: \"sequential_5\"\n",
            "_________________________________________________________________\n",
            "Layer (type)                 Output Shape              Param #   \n",
            "=================================================================\n",
            "dense_35 (Dense)             (None, 128)               1408      \n",
            "_________________________________________________________________\n",
            "dense_36 (Dense)             (None, 128)               16512     \n",
            "_________________________________________________________________\n",
            "dense_37 (Dense)             (None, 128)               16512     \n",
            "_________________________________________________________________\n",
            "dense_38 (Dense)             (None, 128)               16512     \n",
            "_________________________________________________________________\n",
            "dense_39 (Dense)             (None, 128)               16512     \n",
            "_________________________________________________________________\n",
            "dense_40 (Dense)             (None, 128)               16512     \n",
            "_________________________________________________________________\n",
            "dense_41 (Dense)             (None, 1)                 129       \n",
            "=================================================================\n",
            "Total params: 84,097\n",
            "Trainable params: 84,097\n",
            "Non-trainable params: 0\n",
            "_________________________________________________________________\n"
          ],
          "name": "stdout"
        }
      ]
    },
    {
      "cell_type": "code",
      "metadata": {
        "id": "S0nera27iiW-",
        "colab_type": "code",
        "colab": {}
      },
      "source": [
        "model.compile(optimizer='adam', loss='mse', metrics=['mae'])"
      ],
      "execution_count": 69,
      "outputs": []
    },
    {
      "cell_type": "code",
      "metadata": {
        "id": "DlAJf34Mio_b",
        "colab_type": "code",
        "colab": {}
      },
      "source": [
        "history = model.fit(train_data, train_targets, epochs=100,\n",
        "                    validation_split=0.15, batch_size=64, verbose=False)"
      ],
      "execution_count": 70,
      "outputs": []
    },
    {
      "cell_type": "code",
      "metadata": {
        "id": "ILUPK0ncjFIK",
        "colab_type": "code",
        "colab": {
          "base_uri": "https://localhost:8080/",
          "height": 51
        },
        "outputId": "db8dc047-360a-4054-8ce1-d592e905d50d"
      },
      "source": [
        "model.evaluate(test_data, test_targets, verbose=2)"
      ],
      "execution_count": 71,
      "outputs": [
        {
          "output_type": "stream",
          "text": [
            "2/2 - 0s - loss: 0.9287 - mae: 0.7308\n"
          ],
          "name": "stdout"
        },
        {
          "output_type": "execute_result",
          "data": {
            "text/plain": [
              "[0.9287431240081787, 0.73076993227005]"
            ]
          },
          "metadata": {
            "tags": []
          },
          "execution_count": 71
        }
      ]
    },
    {
      "cell_type": "markdown",
      "metadata": {
        "id": "ET1OqPS7jT9N",
        "colab_type": "text"
      },
      "source": [
        "##### Plot the learning curves"
      ]
    },
    {
      "cell_type": "code",
      "metadata": {
        "id": "3z33ioWZjSFe",
        "colab_type": "code",
        "colab": {}
      },
      "source": [
        "import matplotlib.pyplot as plt\n",
        "\n",
        "def plotLoss(history):\n",
        "  plt.plot(history.history['loss'])\n",
        "  plt.plot(history.history['val_loss'])\n",
        "  plt.title('Loss vs. epochs')\n",
        "  plt.ylabel('Loss')\n",
        "  plt.xlabel('Epoch')\n",
        "  plt.legend(['Training', 'Validation'], loc='upper right')\n",
        "  plt.show()"
      ],
      "execution_count": 72,
      "outputs": []
    },
    {
      "cell_type": "code",
      "metadata": {
        "id": "6uZJ_sN93-z4",
        "colab_type": "code",
        "colab": {
          "base_uri": "https://localhost:8080/",
          "height": 295
        },
        "outputId": "5a8826df-4260-4256-87ad-7d698eb1e797"
      },
      "source": [
        "plotLoss(history)"
      ],
      "execution_count": 73,
      "outputs": [
        {
          "output_type": "display_data",
          "data": {
            "image/png": "[encoded data removed]",
            "text/plain": [
              "<Figure size 432x288 with 1 Axes>"
            ]
          },
          "metadata": {
            "tags": [],
            "needs_background": "light"
          }
        }
      ]
    },
    {
      "cell_type": "markdown",
      "metadata": {
        "id": "TafX1HcNqnQA",
        "colab_type": "text"
      },
      "source": [
        "### Regularisation"
      ]
    },
    {
      "cell_type": "code",
      "metadata": {
        "id": "sfY11k2eqpm-",
        "colab_type": "code",
        "colab": {}
      },
      "source": [
        "from tensorflow.keras.layers import Dropout\n",
        "from tensorflow.keras import regularizers"
      ],
      "execution_count": 74,
      "outputs": []
    },
    {
      "cell_type": "code",
      "metadata": {
        "id": "dO_Lw30yqyt8",
        "colab_type": "code",
        "colab": {}
      },
      "source": [
        "def get_regularised_model(wd, rate):\n",
        "  model = Sequential([\n",
        "                      Dense(128, kernel_regularizer=regularizers.l2(wd), activation='relu', input_shape=(train_data.shape[1],)),\n",
        "                      Dropout(rate),\n",
        "                      Dense(128, kernel_regularizer=regularizers.l2(wd), activation='relu'),\n",
        "                      Dropout(rate),\n",
        "                      Dense(128, kernel_regularizer=regularizers.l2(wd), activation='relu'),\n",
        "                      Dropout(rate),\n",
        "                      Dense(128, kernel_regularizer=regularizers.l2(wd), activation='relu'),\n",
        "                      Dropout(rate),\n",
        "                      Dense(128, kernel_regularizer=regularizers.l2(wd), activation='relu'),\n",
        "                      Dropout(rate),\n",
        "                      Dense(128, kernel_regularizer=regularizers.l2(wd), activation='relu'),\n",
        "                      Dropout(rate),\n",
        "                      Dense(1)\n",
        "  ])\n",
        "  return model"
      ],
      "execution_count": 75,
      "outputs": []
    },
    {
      "cell_type": "code",
      "metadata": {
        "id": "i3lej5eGrXN_",
        "colab_type": "code",
        "colab": {}
      },
      "source": [
        "model = get_regularised_model(1e-5, 0.3)"
      ],
      "execution_count": 76,
      "outputs": []
    },
    {
      "cell_type": "code",
      "metadata": {
        "id": "MK8230gmrtz2",
        "colab_type": "code",
        "colab": {}
      },
      "source": [
        "model.compile(optimizer='adam', loss='mse', metrics=['mae'])"
      ],
      "execution_count": 77,
      "outputs": []
    },
    {
      "cell_type": "code",
      "metadata": {
        "id": "yLrgAcGSrxr3",
        "colab_type": "code",
        "colab": {}
      },
      "source": [
        "history = model.fit(train_data, train_targets, epochs=100,\n",
        "                    validation_split=0.15, batch_size=64, verbose=False)"
      ],
      "execution_count": 78,
      "outputs": []
    },
    {
      "cell_type": "code",
      "metadata": {
        "id": "-mi17NQlr3hk",
        "colab_type": "code",
        "colab": {
          "base_uri": "https://localhost:8080/",
          "height": 51
        },
        "outputId": "ddaa8e2b-f784-4dd1-86f2-92ce5668342c"
      },
      "source": [
        "model.evaluate(test_data, test_targets, verbose=2)"
      ],
      "execution_count": 79,
      "outputs": [
        {
          "output_type": "stream",
          "text": [
            "2/2 - 0s - loss: 0.4917 - mae: 0.5552\n"
          ],
          "name": "stdout"
        },
        {
          "output_type": "execute_result",
          "data": {
            "text/plain": [
              "[0.49169352650642395, 0.5551758408546448]"
            ]
          },
          "metadata": {
            "tags": []
          },
          "execution_count": 79
        }
      ]
    },
    {
      "cell_type": "code",
      "metadata": {
        "id": "9Cig9bIssIE-",
        "colab_type": "code",
        "colab": {
          "base_uri": "https://localhost:8080/",
          "height": 295
        },
        "outputId": "0dd3658a-2866-4d7b-960c-ea52dd29a760"
      },
      "source": [
        "plotLoss(history)"
      ],
      "execution_count": 80,
      "outputs": [
        {
          "output_type": "display_data",
          "data": {
            "image/png": "[encoded data removed]",
            "text/plain": [
              "<Figure size 432x288 with 1 Axes>"
            ]
          },
          "metadata": {
            "tags": [],
            "needs_background": "light"
          }
        }
      ]
    },
    {
      "cell_type": "markdown",
      "metadata": {
        "id": "_QKdUvXYiWVl",
        "colab_type": "text"
      },
      "source": [
        "### Callbacks"
      ]
    },
    {
      "cell_type": "code",
      "metadata": {
        "id": "VlyAGlgEiVSd",
        "colab_type": "code",
        "colab": {}
      },
      "source": [
        "from tensorflow.keras.callbacks import Callback\n",
        "\n",
        "class TrainingCallback(Callback):\n",
        "  def on_train_begin(self, logs=None):\n",
        "    print(\"Starting training...\")\n",
        "\n",
        "  def on_epoch_begin(self, epoch, logs=None):\n",
        "    print(f\"Starting epoch {epoch}\")\n",
        "\n",
        "  def on_train_batch_begin(self, batch, logs=None):\n",
        "    print(f\"Training: Starting batch {batch}\")\n",
        "\n",
        "  def on_train_batch_end(self, batch, logs=None):\n",
        "    print(f\"Training: Finished batch {batch}\")\n",
        "\n",
        "  def on_epoch_end(self, epoch, logs=None):\n",
        "    print(f\"Finished epoch {epoch}\")\n",
        "\n",
        "  def on_train_end(self, logs=None):\n",
        "    print(\"Finished training!\")\n"
      ],
      "execution_count": 81,
      "outputs": []
    },
    {
      "cell_type": "code",
      "metadata": {
        "id": "GsqpbhNXmLdQ",
        "colab_type": "code",
        "colab": {}
      },
      "source": [
        "model = get_regularised_model(1e-5, 0.3)"
      ],
      "execution_count": 82,
      "outputs": []
    },
    {
      "cell_type": "code",
      "metadata": {
        "id": "pk5SytaMj9U3",
        "colab_type": "code",
        "colab": {}
      },
      "source": [
        "model.compile(optimizer=\"adam\", loss=\"mse\")"
      ],
      "execution_count": 83,
      "outputs": []
    },
    {
      "cell_type": "code",
      "metadata": {
        "id": "yyLuvZmokK0L",
        "colab_type": "code",
        "colab": {
          "base_uri": "https://localhost:8080/",
          "height": 578
        },
        "outputId": "296c6219-b95b-4d02-bc15-270a70ee7d24"
      },
      "source": [
        "model.fit(train_data, train_targets, epochs=3, batch_size=128, verbose=False, callbacks=[TrainingCallback()])"
      ],
      "execution_count": 84,
      "outputs": [
        {
          "output_type": "stream",
          "text": [
            "Starting training...\n",
            "Starting epoch 0\n",
            "Training: Starting batch 0\n",
            "Training: Finished batch 0\n",
            "Training: Starting batch 1\n",
            "Training: Finished batch 1\n",
            "Training: Starting batch 2\n",
            "Training: Finished batch 2\n",
            "Training: Starting batch 3\n",
            "Training: Finished batch 3\n",
            "Finished epoch 0\n",
            "Starting epoch 1\n",
            "Training: Starting batch 0\n",
            "Training: Finished batch 0\n",
            "Training: Starting batch 1\n",
            "Training: Finished batch 1\n",
            "Training: Starting batch 2\n",
            "Training: Finished batch 2\n",
            "Training: Starting batch 3\n",
            "Training: Finished batch 3\n",
            "Finished epoch 1\n",
            "Starting epoch 2\n",
            "Training: Starting batch 0\n",
            "Training: Finished batch 0\n",
            "Training: Starting batch 1\n",
            "Training: Finished batch 1\n",
            "Training: Starting batch 2\n",
            "Training: Finished batch 2\n",
            "Training: Starting batch 3\n",
            "Training: Finished batch 3\n",
            "Finished epoch 2\n",
            "Finished training!\n"
          ],
          "name": "stdout"
        },
        {
          "output_type": "execute_result",
          "data": {
            "text/plain": [
              "<tensorflow.python.keras.callbacks.History at 0x7f42cc178160>"
            ]
          },
          "metadata": {
            "tags": []
          },
          "execution_count": 84
        }
      ]
    },
    {
      "cell_type": "code",
      "metadata": {
        "id": "RzDzf3kQkXlL",
        "colab_type": "code",
        "colab": {}
      },
      "source": [
        "class TestingCallback(Callback):\n",
        "  def on_test_begin(self, logs=None):\n",
        "    print(\"Starting testing...\")\n",
        "\n",
        "  def on_test_batch_begin(self, batch, logs=None):\n",
        "    print(f\"Testing: Starting batch {batch}\")\n",
        "\n",
        "  def on_test_batch_end(self, batch, logs=None):\n",
        "    print(f\"Testing: Finished batch {batch}\")\n",
        "\n",
        "  def on_test_end(self, logs=None):\n",
        "    print(\"Finished testing!\")"
      ],
      "execution_count": 85,
      "outputs": []
    },
    {
      "cell_type": "code",
      "metadata": {
        "id": "4ULKiKgFk7H4",
        "colab_type": "code",
        "colab": {
          "base_uri": "https://localhost:8080/",
          "height": 136
        },
        "outputId": "bf30c84c-473d-419c-da50-494e2ebc780b"
      },
      "source": [
        "model.evaluate(test_data, test_targets, verbose=False, callbacks=[TestingCallback()])"
      ],
      "execution_count": 86,
      "outputs": [
        {
          "output_type": "stream",
          "text": [
            "Starting testing...\n",
            "Testing: Starting batch 0\n",
            "Testing: Finished batch 0\n",
            "Testing: Starting batch 1\n",
            "Testing: Finished batch 1\n",
            "Finished testing!\n"
          ],
          "name": "stdout"
        },
        {
          "output_type": "execute_result",
          "data": {
            "text/plain": [
              "0.8085802793502808"
            ]
          },
          "metadata": {
            "tags": []
          },
          "execution_count": 86
        }
      ]
    },
    {
      "cell_type": "code",
      "metadata": {
        "id": "FH9CmR_FlD-Q",
        "colab_type": "code",
        "colab": {}
      },
      "source": [
        "class PredictionCallback(Callback):\n",
        "  def on_predict_begin(self, logs=None):\n",
        "    print(\"Starting prediction...\")\n",
        "\n",
        "  def on_predict_batch_begin(self, batch, logs=None):\n",
        "    print(f\"Prediction: Starting batch {batch}\")\n",
        "\n",
        "  def on_predict_batch_end(self, batch, logs=None):\n",
        "    print(f\"Prediction: Finished batch {batch}\")\n",
        "\n",
        "  def on_predict_end(self, logs=None):\n",
        "    print(\"Finished prediction!\")"
      ],
      "execution_count": 87,
      "outputs": []
    },
    {
      "cell_type": "code",
      "metadata": {
        "id": "A_9ot7DQliWn",
        "colab_type": "code",
        "colab": {
          "base_uri": "https://localhost:8080/",
          "height": 884
        },
        "outputId": "340856a2-fa4c-4bb5-8561-958c52589029"
      },
      "source": [
        "model.predict(test_data, verbose=False, callbacks=[PredictionCallback()])"
      ],
      "execution_count": 88,
      "outputs": [
        {
          "output_type": "stream",
          "text": [
            "Starting prediction...\n",
            "Prediction: Starting batch 0\n",
            "Prediction: Finished batch 0\n",
            "Prediction: Starting batch 1\n",
            "Prediction: Finished batch 1\n",
            "Finished prediction!\n"
          ],
          "name": "stdout"
        },
        {
          "output_type": "execute_result",
          "data": {
            "text/plain": [
              "array([[ 0.03931485],\n",
              "       [ 0.00609791],\n",
              "       [ 0.04193491],\n",
              "       [ 0.06980792],\n",
              "       [ 0.06629064],\n",
              "       [ 0.00383159],\n",
              "       [ 0.03420728],\n",
              "       [ 0.04301227],\n",
              "       [ 0.0698045 ],\n",
              "       [ 0.05264168],\n",
              "       [ 0.05925111],\n",
              "       [ 0.05192648],\n",
              "       [ 0.0618074 ],\n",
              "       [ 0.07227758],\n",
              "       [ 0.05632944],\n",
              "       [ 0.06265166],\n",
              "       [ 0.05135651],\n",
              "       [-0.00281404],\n",
              "       [ 0.02958008],\n",
              "       [ 0.07378095],\n",
              "       [ 0.00726515],\n",
              "       [ 0.02721499],\n",
              "       [ 0.061664  ],\n",
              "       [ 0.02281524],\n",
              "       [ 0.03443199],\n",
              "       [-0.00044795],\n",
              "       [ 0.05182932],\n",
              "       [ 0.06948476],\n",
              "       [ 0.04675271],\n",
              "       [ 0.05761104],\n",
              "       [ 0.06634073],\n",
              "       [ 0.05427381],\n",
              "       [ 0.0587967 ],\n",
              "       [ 0.02236465],\n",
              "       [ 0.03326401],\n",
              "       [ 0.04376989],\n",
              "       [ 0.0004074 ],\n",
              "       [ 0.05309562],\n",
              "       [ 0.06532045],\n",
              "       [ 0.06473693],\n",
              "       [ 0.06702059],\n",
              "       [ 0.03543373],\n",
              "       [-0.017127  ],\n",
              "       [ 0.06141342],\n",
              "       [ 0.06787433]], dtype=float32)"
            ]
          },
          "metadata": {
            "tags": []
          },
          "execution_count": 88
        }
      ]
    },
    {
      "cell_type": "markdown",
      "metadata": {
        "id": "ic6tkKA23km2",
        "colab_type": "text"
      },
      "source": [
        "### Early stopping / Patience"
      ]
    },
    {
      "cell_type": "code",
      "metadata": {
        "id": "QFggJQdX3n8w",
        "colab_type": "code",
        "colab": {}
      },
      "source": [
        "unregularised_model = get_model()\n",
        "unregularised_model.compile(optimizer='adam', loss='mse')\n",
        "unreg_history = unregularised_model.fit(train_data, train_targets, epochs=100,\n",
        "                                        validation_split=0.15, batch_size=64, verbose=False,\n",
        "                                        callbacks=[tf.keras.callbacks.EarlyStopping(patience=2)])"
      ],
      "execution_count": 105,
      "outputs": []
    },
    {
      "cell_type": "code",
      "metadata": {
        "id": "6rQFQyYJ4I1z",
        "colab_type": "code",
        "colab": {
          "base_uri": "https://localhost:8080/",
          "height": 51
        },
        "outputId": "b4a4d572-8706-4c22-b86b-0d81cdc4ce49"
      },
      "source": [
        "unregularised_model.evaluate(test_data, test_targets, verbose=2)"
      ],
      "execution_count": 106,
      "outputs": [
        {
          "output_type": "stream",
          "text": [
            "2/2 - 0s - loss: 0.4595\n"
          ],
          "name": "stdout"
        },
        {
          "output_type": "execute_result",
          "data": {
            "text/plain": [
              "0.4594855308532715"
            ]
          },
          "metadata": {
            "tags": []
          },
          "execution_count": 106
        }
      ]
    },
    {
      "cell_type": "code",
      "metadata": {
        "id": "mzOVZKdh4qDf",
        "colab_type": "code",
        "colab": {}
      },
      "source": [
        "regularised_model = get_regularised_model(1e-8, 0.2)\n",
        "regularised_model.compile(optimizer='adam', loss='mse')\n",
        "reg_history = regularised_model.fit(train_data, train_targets, epochs=100,\n",
        "                                        validation_split=0.15, batch_size=64, verbose=False,\n",
        "                                        callbacks=[tf.keras.callbacks.EarlyStopping(patience=2)])"
      ],
      "execution_count": 107,
      "outputs": []
    },
    {
      "cell_type": "code",
      "metadata": {
        "id": "NRMuzi4c4z9L",
        "colab_type": "code",
        "colab": {
          "base_uri": "https://localhost:8080/",
          "height": 573
        },
        "outputId": "e86f33e2-deec-4843-8469-d89265a3fba7"
      },
      "source": [
        "plotLoss(unreg_history)\n",
        "plotLoss(reg_history)"
      ],
      "execution_count": 108,
      "outputs": [
        {
          "output_type": "display_data",
          "data": {
            "image/png": "[encoded data removed]",
            "text/plain": [
              "<Figure size 432x288 with 1 Axes>"
            ]
          },
          "metadata": {
            "tags": [],
            "needs_background": "light"
          }
        },
        {
          "output_type": "display_data",
          "data": {
            "image/png": "[encoded data removed]",
            "text/plain": [
              "<Figure size 432x288 with 1 Axes>"
            ]
          },
          "metadata": {
            "tags": [],
            "needs_background": "light"
          }
        }
      ]
    },
    {
      "cell_type": "code",
      "metadata": {
        "id": "ferQhOq65Va9",
        "colab_type": "code",
        "colab": {}
      },
      "source": [
        ""
      ],
      "execution_count": null,
      "outputs": []
    }
  ]
}
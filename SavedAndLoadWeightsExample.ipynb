{
  "nbformat": 4,
  "nbformat_minor": 0,
  "metadata": {
    "colab": {
      "name": "SavedAndLoadWeightsExample.ipynb",
      "provenance": [],
      "authorship_tag": "ABX9TyPq/yorPne2TbIESvA6E3QW"
    },
    "kernelspec": {
      "name": "python3",
      "display_name": "Python 3"
    }
  },
  "cells": [
    {
      "cell_type": "code",
      "metadata": {
        "id": "go3QwrYamJEi",
        "colab_type": "code",
        "colab": {}
      },
      "source": [
        "from tensorflow.keras.models import Sequential\n",
        "from tensorflow.keras.layers import Dense\n",
        "from tensorflow.keras.losses import BinaryCrossentropy\n",
        "from tensorflow.keras.callbacks import ModelCheckpoint"
      ],
      "execution_count": null,
      "outputs": []
    },
    {
      "cell_type": "code",
      "metadata": {
        "id": "yAt1h8k1mh0k",
        "colab_type": "code",
        "colab": {}
      },
      "source": [
        "model = Sequential([\n",
        "                    Dense(64, activation='sigmoid', input_shape=(10,)),\n",
        "                    Dense(1)\n",
        "])"
      ],
      "execution_count": null,
      "outputs": []
    },
    {
      "cell_type": "code",
      "metadata": {
        "id": "kC2sttttmr4X",
        "colab_type": "code",
        "colab": {}
      },
      "source": [
        "model.compile(optimizer='sgd', loss=BinaryCrossentropy(from_logits=True))"
      ],
      "execution_count": null,
      "outputs": []
    },
    {
      "cell_type": "markdown",
      "metadata": {
        "id": "5C_F_h4hoTNn",
        "colab_type": "text"
      },
      "source": [
        "#### Save the model weights\n",
        "Automatically"
      ]
    },
    {
      "cell_type": "code",
      "metadata": {
        "id": "ypjx78Hcn3NV",
        "colab_type": "code",
        "colab": {}
      },
      "source": [
        "checkpoint = ModelCheckpoint('my_model', save_weights_only=True)"
      ],
      "execution_count": null,
      "outputs": []
    },
    {
      "cell_type": "code",
      "metadata": {
        "id": "WpwGKuR3m_Av",
        "colab_type": "code",
        "colab": {}
      },
      "source": [
        "checkpoint = ModelCheckpoint('keras_model.h5', save_weights_only=True)"
      ],
      "execution_count": null,
      "outputs": []
    },
    {
      "cell_type": "code",
      "metadata": {
        "id": "s-Uv9Hw6nG2m",
        "colab_type": "code",
        "colab": {}
      },
      "source": [
        "model.fit(X_train, y_train, epochs=10, callbacks=[checkpoint])"
      ],
      "execution_count": null,
      "outputs": []
    },
    {
      "cell_type": "markdown",
      "metadata": {
        "id": "GxucUX9aopuO",
        "colab_type": "text"
      },
      "source": [
        "Manually"
      ]
    },
    {
      "cell_type": "code",
      "metadata": {
        "id": "YA-YDTJkopE7",
        "colab_type": "code",
        "colab": {}
      },
      "source": [
        "early_stopping = EarlyStopping(monitor='val_mae', patience=2)"
      ],
      "execution_count": null,
      "outputs": []
    },
    {
      "cell_type": "code",
      "metadata": {
        "id": "SoXEc29Wo75-",
        "colab_type": "code",
        "colab": {}
      },
      "source": [
        "model.fit(X_train, y_train, validation_split=0.2, epochs=50, callbacks=[early_])"
      ],
      "execution_count": null,
      "outputs": []
    },
    {
      "cell_type": "markdown",
      "metadata": {
        "id": "kx1Zqm1joXBm",
        "colab_type": "text"
      },
      "source": [
        "#### Load the model weights"
      ]
    },
    {
      "cell_type": "code",
      "metadata": {
        "id": "ybBnYzD_oAil",
        "colab_type": "code",
        "colab": {}
      },
      "source": [
        "model.load_weights('my_model')"
      ],
      "execution_count": null,
      "outputs": []
    },
    {
      "cell_type": "code",
      "metadata": {
        "id": "O5X6xD6HoMlS",
        "colab_type": "code",
        "colab": {}
      },
      "source": [
        "model.load_weights('keras_model.h5')"
      ],
      "execution_count": null,
      "outputs": []
    }
  ]
}
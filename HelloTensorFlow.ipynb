{
  "nbformat": 4,
  "nbformat_minor": 0,
  "metadata": {
    "colab": {
      "name": "HelloTensorFlow.ipynb",
      "provenance": [],
      "collapsed_sections": [],
      "authorship_tag": "ABX9TyMgYYd+ho2PAGIybXNUsfQu"
    },
    "kernelspec": {
      "name": "python3",
      "display_name": "Python 3"
    }
  },
  "cells": [
    {
      "cell_type": "markdown",
      "metadata": {
        "id": "2za-HuuCoDic",
        "colab_type": "text"
      },
      "source": [
        "# Hello TensorFlow"
      ]
    },
    {
      "cell_type": "code",
      "metadata": {
        "id": "YFfsLIUMoB3-",
        "colab_type": "code",
        "colab": {}
      },
      "source": [
        "# Import Tensorflow\n",
        "import tensorflow as tf"
      ],
      "execution_count": 2,
      "outputs": []
    },
    {
      "cell_type": "code",
      "metadata": {
        "id": "WpphK57QoOSH",
        "colab_type": "code",
        "colab": {
          "base_uri": "https://localhost:8080/",
          "height": 35
        },
        "outputId": "f2610612-13bf-4295-9023-f3ccd2eafa38"
      },
      "source": [
        "# Check its version\n",
        "tf.__version__"
      ],
      "execution_count": 3,
      "outputs": [
        {
          "output_type": "execute_result",
          "data": {
            "application/vnd.google.colaboratory.intrinsic+json": {
              "type": "string"
            },
            "text/plain": [
              "'2.3.0'"
            ]
          },
          "metadata": {
            "tags": []
          },
          "execution_count": 3
        }
      ]
    },
    {
      "cell_type": "code",
      "metadata": {
        "id": "Qp-QuYJCoW_e",
        "colab_type": "code",
        "colab": {
          "base_uri": "https://localhost:8080/",
          "height": 139
        },
        "outputId": "0e3a38ab-459f-4e08-cb69-932d0faa955f"
      },
      "source": [
        "# Train a feedforward neural network for image classification\n",
        "\n",
        "import numpy as np\n",
        "\n",
        "print('Loading data...\\n')\n",
        "(x_train, y_train), (x_test, y_test) = tf.keras.datasets.mnist.load_data()\n",
        "print('MNIST dataset loaded.\\n')"
      ],
      "execution_count": 24,
      "outputs": [
        {
          "output_type": "stream",
          "text": [
            "Loading data...\n",
            "\n",
            "Downloading data from https://storage.googleapis.com/tensorflow/tf-keras-datasets/mnist.npz\n",
            "11493376/11490434 [==============================] - 0s 0us/step\n",
            "MNIST dataset loaded.\n",
            "\n"
          ],
          "name": "stdout"
        }
      ]
    },
    {
      "cell_type": "code",
      "metadata": {
        "id": "IWT269hVtgry",
        "colab_type": "code",
        "colab": {
          "base_uri": "https://localhost:8080/",
          "height": 34
        },
        "outputId": "f3ff1b52-f3e8-4685-e03d-f8e82491d6e0"
      },
      "source": [
        "x_train = data[:, 1:]\n",
        "y_train = data[:, 0]\n",
        "x_train = x_train/255.\n",
        "\n",
        "data[:, 1]"
      ],
      "execution_count": 25,
      "outputs": [
        {
          "output_type": "execute_result",
          "data": {
            "text/plain": [
              "array([0., 0., 0., ..., 0., 0., 0.])"
            ]
          },
          "metadata": {
            "tags": []
          },
          "execution_count": 25
        }
      ]
    },
    {
      "cell_type": "code",
      "metadata": {
        "id": "8CVAe0RDouG0",
        "colab_type": "code",
        "colab": {}
      },
      "source": [
        "model = tf.keras.models.Sequential([\n",
        "                                    tf.keras.layers.Dense(16, activation = 'relu'),\n",
        "                                    tf.keras.layers.Dense(10, activation = 'softmax')\n",
        "])\n",
        "\n",
        "model.compile(optimizer = 'adam',\n",
        "              loss = 'sparse_categorical_crossentropy',\n",
        "              metrics = ['accuracy'])"
      ],
      "execution_count": 26,
      "outputs": []
    },
    {
      "cell_type": "code",
      "metadata": {
        "id": "a__tE0dmuKtr",
        "colab_type": "code",
        "colab": {
          "base_uri": "https://localhost:8080/",
          "height": 190
        },
        "outputId": "2aa729fa-32cc-4dce-b046-402b9999efe2"
      },
      "source": [
        "print('Training model.. \\n')\n",
        "model.fit(x_train, y_train, epochs = 3, batch_size = 32)"
      ],
      "execution_count": 27,
      "outputs": [
        {
          "output_type": "stream",
          "text": [
            "Training model.. \n",
            "\n",
            "Epoch 1/3\n",
            "1875/1875 [==============================] - 2s 1ms/step - loss: 0.4244 - accuracy: 0.8809\n",
            "Epoch 2/3\n",
            "1875/1875 [==============================] - 2s 1ms/step - loss: 0.2589 - accuracy: 0.9269\n",
            "Epoch 3/3\n",
            "1875/1875 [==============================] - 2s 1ms/step - loss: 0.2319 - accuracy: 0.9341\n"
          ],
          "name": "stdout"
        },
        {
          "output_type": "execute_result",
          "data": {
            "text/plain": [
              "<tensorflow.python.keras.callbacks.History at 0x7fd5d84585c0>"
            ]
          },
          "metadata": {
            "tags": []
          },
          "execution_count": 27
        }
      ]
    },
    {
      "cell_type": "code",
      "metadata": {
        "id": "F4a9z37muPph",
        "colab_type": "code",
        "colab": {}
      },
      "source": [
        ""
      ],
      "execution_count": null,
      "outputs": []
    }
  ]
}